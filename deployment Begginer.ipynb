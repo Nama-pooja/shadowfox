{
  "nbformat": 4,
  "nbformat_minor": 0,
  "metadata": {
    "colab": {
      "provenance": [],
      "authorship_tag": "ABX9TyNjWVw+5Y9603pjZd6bO9TV",
      "include_colab_link": true
    },
    "kernelspec": {
      "name": "python3",
      "display_name": "Python 3"
    },
    "language_info": {
      "name": "python"
    }
  },
  "cells": [
    {
      "cell_type": "markdown",
      "metadata": {
        "id": "view-in-github",
        "colab_type": "text"
      },
      "source": [
        "<a href=\"https://colab.research.google.com/github/Nama-pooja/shadowfox/blob/main/deployment4.ipynb\" target=\"_parent\"><img src=\"https://colab.research.google.com/assets/colab-badge.svg\" alt=\"Open In Colab\"/></a>"
      ]
    },
    {
      "cell_type": "code",
      "source": [
        "# Define the class labels as per your training data\n",
        "classes = [\"cat\", \"dog\", \"car\"]  # Adjust according to your dataset\n"
      ],
      "metadata": {
        "id": "AMhsro8gqkey"
      },
      "execution_count": 8,
      "outputs": []
    },
    {
      "cell_type": "code",
      "source": [
        "from tensorflow.keras.preprocessing.image import load_img, img_to_array\n",
        "import numpy as np\n",
        "\n",
        "def preprocess_image(image_path, target_size=(224, 224)):\n",
        "    \"\"\"\n",
        "    Prepares the image for prediction by resizing and normalizing.\n",
        "    \"\"\"\n",
        "    image = load_img(image_path, target_size=target_size)  # Resize the image\n",
        "    image = img_to_array(image)  # Convert to numpy array\n",
        "    image = np.expand_dims(image, axis=0)  # Add batch dimension\n",
        "    image = image / 255.0  # Normalize pixel values to [0, 1]\n",
        "    return image\n"
      ],
      "metadata": {
        "id": "_gogyorMqqqx"
      },
      "execution_count": 9,
      "outputs": []
    },
    {
      "cell_type": "code",
      "source": [
        "def predict_image(image_path):\n",
        "    \"\"\"\n",
        "    Predicts the class label of the input image.\n",
        "    \"\"\"\n",
        "    processed_image = preprocess_image(image_path)\n",
        "    predictions = model.predict(processed_image)  # Get model predictions\n",
        "    predicted_class_index = np.argmax(predictions, axis=1)[0]  # Index of highest score\n",
        "    return classes[predicted_class_index]\n"
      ],
      "metadata": {
        "id": "4M7kLZWHrCTf"
      },
      "execution_count": 10,
      "outputs": []
    }
  ]
}
